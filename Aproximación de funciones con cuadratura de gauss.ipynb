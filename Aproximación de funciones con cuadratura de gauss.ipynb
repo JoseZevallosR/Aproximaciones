{
 "cells": [
  {
   "cell_type": "code",
   "execution_count": 1,
   "id": "dc0a87f6",
   "metadata": {},
   "outputs": [],
   "source": [
    "%config Completer.use_jedi = False #for auto complete code"
   ]
  },
  {
   "cell_type": "markdown",
   "id": "599c924a",
   "metadata": {},
   "source": [
    "<b> Cambio de variable se puede expresar como </b>\n",
    "\n",
    "$$\n",
    "\\begin{pmatrix}\n",
    "x(\\xi,\\eta) \\\\ y(\\xi,\\eta) \n",
    "\\end{pmatrix}=\\phi(\\xi,\\eta)= \n",
    "\\begin{pmatrix}\n",
    "      N_1(\\xi,\\eta)x_1 + N_2(\\xi,\\eta)x_2 + N_3(\\xi,\\eta)x_3 + N_4(\\xi,\\eta)x_4\\\\ N_1(\\xi,\\eta)y_1 + N_2(\\xi,\\eta)y_2 + N_3(\\xi,\\eta)y_3 + N_4(\\xi,\\eta)y_4\n",
    "\\end{pmatrix}$$\n",
    "\n",
    "\n",
    "donde:\n",
    "\n",
    "$$N_1(\\xi,\\eta)=\\frac{(1-\\xi)(1-\\eta)}{4}$$\n",
    "$$N_2(\\xi,\\eta)=\\frac{(1+\\xi)(1-\\eta)}{4}$$\n",
    "$$N_3(\\xi,\\eta)=\\frac{(1+\\xi)(1+\\eta)}{4}$$\n",
    "$$N_4(\\xi,\\eta)=\\frac{(1-\\xi)(1+\\eta)}{4}$$\n",
    "\n",
    "\n",
    "<b> El jacobiano de la funcion de mapeo es:</b>\n",
    "\n",
    "$$ J(\\xi,\\eta)=\\frac{\\delta(\\xi,\\eta)}{\\delta(\\xi,\\eta)}=\\begin{pmatrix} \\frac{\\delta x}{\\delta \\xi} & \\frac{\\delta x}{\\delta \\eta}\\\\ \\frac{\\delta y}{\\delta \\xi} & \\frac{\\delta y}{\\delta \\eta}\\end{pmatrix}$$\n",
    "\n",
    "<b>En notacion matricial</b>\n",
    "\n",
    "$$ J^T=\\frac{1}{4}\\begin{bmatrix}     \n",
    "-(1-\\eta) & 1-\\eta & 1+\\eta & -(1+\\eta) \\\\ -(1-\\xi) & -(1+\\xi) & 1+\\xi & 1-\\xi \\end{bmatrix}\n",
    "\\begin{bmatrix} x_1 & y_1 \\\\ x_2 & y_2 \\\\ x_3 & y_3\\\\x_4 & y_4 \\end{bmatrix}$$\n",
    "\n",
    "<b>Aproximando la integracion de una funcion f con cuadratura de gauss se tiene:</b>\n",
    "\n",
    "$$\\iint_K F(x,y) \\,dx\\,dy \\approx \\sum_{i=1}^{N}\\sum_{j=1}^{N} w_iw_jF(x_i(\\xi_i,\\eta_i),y_i(\\xi_i,\\eta_i))|J(\\xi_i,\\eta_i)|$$"
   ]
  },
  {
   "cell_type": "code",
   "execution_count": 2,
   "id": "e022acda",
   "metadata": {},
   "outputs": [],
   "source": [
    "import numpy as np\n",
    "import matplotlib.pylab as plt"
   ]
  },
  {
   "cell_type": "code",
   "execution_count": 3,
   "id": "359bceb8",
   "metadata": {},
   "outputs": [],
   "source": [
    "#esta funcion mapea las coordenadas xi,eta hacia x,y\n",
    "def mapeo(xi,eta,coords):\n",
    "    return (1-xi)*(1-eta)/4*coords[0]+(1+xi)*(1-eta)/4*coords[1]+(1+xi)*(1+eta)/4*coords[2]+(1-xi)*(1+eta)/4*coords[3]\n",
    "\n",
    "#funcion para calcular el jacobiano de la transformacion al dominio bi unitario\n",
    "def jacobian(xi,eta,X,Y): \n",
    "    grad_shape=0.25*np.array([[-(1-xi),1-xi,1+xi,-(1+xi)],[-(1-eta),-(1+eta),1+eta,1-eta]])\n",
    "    coords=np.column_stack((X,Y))\n",
    "    return np.dot(grad_shape,coords)\n",
    "\n",
    "#integracion de una funcion f con cuadratura gausiana\n",
    "def integration(f,X,Y,degree=2):\n",
    "    if degree==2:\n",
    "        quad_points=[-0.57,0.57]\n",
    "        weights=[1,1]\n",
    "    elif degree==3:\n",
    "        quad_points=[-(3/5)**.5,0,(3/5)**0.5]\n",
    "        weights=[5/9,8/9,5/9]\n",
    "    \n",
    "    result=0\n",
    "    for i in range(len(quad_points)):\n",
    "        for j in range(len(quad_points)):\n",
    "            x1=mapeo(quad_points[i],quad_points[j],X)\n",
    "            y1=mapeo(quad_points[i],quad_points[j],Y)\n",
    "            result+=weights[i]*weights[j]*f(x1,y1)*np.linalg.det(jacobian(quad_points[i],quad_points[j],X,Y))\n",
    "            \n",
    "    return np.round(result,3)"
   ]
  },
  {
   "cell_type": "code",
   "execution_count": 4,
   "id": "b104caa9",
   "metadata": {},
   "outputs": [
    {
     "data": {
      "text/plain": [
       "0.5"
      ]
     },
     "execution_count": 4,
     "metadata": {},
     "output_type": "execute_result"
    }
   ],
   "source": [
    "X=[0,5,4,1]\n",
    "Y=[0,-1,5,4]\n",
    "\n",
    "def f(x,y):\n",
    "    return x**2-y**2\n",
    "\n",
    "integration(f,X,Y,3)"
   ]
  },
  {
   "cell_type": "code",
   "execution_count": 5,
   "id": "31584989",
   "metadata": {},
   "outputs": [
    {
     "data": {
      "text/plain": [
       "2.951"
      ]
     },
     "execution_count": 5,
     "metadata": {},
     "output_type": "execute_result"
    }
   ],
   "source": [
    "X=[0,1,1,0]\n",
    "Y=[0,0,1,1]\n",
    "\n",
    "def f(x,y):\n",
    "    return 2*np.exp(x+y**2)*y\n",
    "\n",
    "integration(f,X,Y,3)"
   ]
  },
  {
   "cell_type": "code",
   "execution_count": 6,
   "id": "795c3c83",
   "metadata": {},
   "outputs": [
    {
     "data": {
      "text/plain": [
       "0.333"
      ]
     },
     "execution_count": 6,
     "metadata": {},
     "output_type": "execute_result"
    }
   ],
   "source": [
    "def f(x,y):\n",
    "    return x**2  \n",
    "\n",
    "integration(f,X,Y,3)"
   ]
  },
  {
   "cell_type": "code",
   "execution_count": null,
   "id": "662dd7e4",
   "metadata": {},
   "outputs": [],
   "source": []
  }
 ],
 "metadata": {
  "kernelspec": {
   "display_name": "Python 3",
   "language": "python",
   "name": "python3"
  },
  "language_info": {
   "codemirror_mode": {
    "name": "ipython",
    "version": 3
   },
   "file_extension": ".py",
   "mimetype": "text/x-python",
   "name": "python",
   "nbconvert_exporter": "python",
   "pygments_lexer": "ipython3",
   "version": "3.8.10"
  }
 },
 "nbformat": 4,
 "nbformat_minor": 5
}
