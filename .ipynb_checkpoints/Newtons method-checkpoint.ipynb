{
 "cells": [
  {
   "cell_type": "code",
   "execution_count": 62,
   "id": "2178a1b0",
   "metadata": {},
   "outputs": [],
   "source": [
    "import autograd.numpy as np\n",
    "from autograd import jacobian\n",
    "from scipy.optimize import minimize\n",
    "\n",
    "def newtons_method(f, x0, tol=1e-6, max_iter=100):\n",
    "    \"\"\"\n",
    "    Newton's method for solving a system of n nonlinear equations.\n",
    "    \n",
    "    Arguments:\n",
    "    - f: The system of equations as a function that takes a numpy array x\n",
    "         of shape (n,) and returns a numpy array of shape (n,).\n",
    "    - x0: Initial guess for the solution as a numpy array of shape (n,).\n",
    "    - tol: Tolerance for convergence (default: 1e-6).\n",
    "    - max_iter: Maximum number of iterations (default: 100).\n",
    "    \n",
    "    Returns:\n",
    "    - sol: The solution to the system of equations as a numpy array of shape (n,).\n",
    "    - converged: A boolean indicating whether the method converged or not.\n",
    "    - num_iter: The number of iterations performed.\n",
    "    \"\"\"\n",
    "    J = jacobian(f)  # Compute the Jacobian of f using autograd\n",
    "    \n",
    "    x = x0.copy()\n",
    "    for i in range(max_iter):\n",
    "        f_val = f(x)\n",
    "        J_val = J(x)\n",
    "        \n",
    "        delta_x = np.linalg.solve(J_val, -f_val)  # Solve the linear system J * delta_x = -f\n",
    "        x += delta_x\n",
    "        \n",
    "        if np.linalg.norm(delta_x) < tol:\n",
    "            return x, True, i+1\n",
    "    \n",
    "    return x, False, max_iter"
   ]
  },
  {
   "cell_type": "code",
   "execution_count": 63,
   "id": "c243aebd",
   "metadata": {},
   "outputs": [
    {
     "name": "stdout",
     "output_type": "stream",
     "text": [
      "Solution: [-0.83928676  0.54368901]\n",
      "Converged in 9 iterations\n"
     ]
    }
   ],
   "source": [
    "# Example usage\n",
    "\n",
    "# Define the system of equations\n",
    "def equations(x):\n",
    "    f1 = x[0]**2 + x[1]**2 - 1\n",
    "    f2 = x[0] - x[1]**3 + 1\n",
    "    return np.array([f1, f2])\n",
    "\n",
    "# Initial guess\n",
    "x0 = np.array([0.5, 0.5])\n",
    "\n",
    "# Solve the system of equations\n",
    "sol, converged, num_iter = newtons_method(equations, x0)\n",
    "\n",
    "if converged:\n",
    "    print(\"Solution:\", sol)\n",
    "    print(\"Converged in\", num_iter, \"iterations\")\n",
    "else:\n",
    "    print(\"Newton's method did not converge\")\n"
   ]
  },
  {
   "cell_type": "code",
   "execution_count": 66,
   "id": "cc362f54",
   "metadata": {},
   "outputs": [
    {
     "name": "stdout",
     "output_type": "stream",
     "text": [
      "Solution: [0.25046142 0.32232498]\n",
      "Converged in 4 iterations\n"
     ]
    }
   ],
   "source": [
    "# Example usage\n",
    "\n",
    "# Define the system of equations\n",
    "def equations(x):\n",
    "    Q = 0.8\n",
    "    y1 = 0.65\n",
    "    z = 2       \n",
    "    g = 9.81  \n",
    "    \n",
    "    #f1 = y1 + Q**2/(2*g*y1**2*z)-x[0] - (x[1] + Q**2/(2*g*(2*z*x[0]*x[1]+z*x[1]**2)**2))\n",
    "    f1 = y1 + Q**2/(2*g*y1**2*z)-x[0] - (x[1] + Q**2/(2*g*(2*z*x[0]*x[1]+z*x[1]**2)**2))\n",
    "    #f2 = Q**2*(2*z*x[0]+2*z*x[1])/(g*(2*z*x[0]*x[1]+z*x[1]**2)**3)-1\n",
    "    f2 = Q**2*(2*z*x[0]+2*z*x[1])/(g*(2*z*x[0]*x[1]+z*x[1]**2)**3)-1\n",
    "    return np.array([f1, f2])\n",
    "\n",
    "# Initial guess\n",
    "x0 = np.array([0.3, 0.3])\n",
    "\n",
    "# Solve the system of equations\n",
    "sol, converged, num_iter = newtons_method(equations, x0)\n",
    "\n",
    "if converged:\n",
    "    print(\"Solution:\", sol)\n",
    "    print(\"Converged in\", num_iter, \"iterations\")\n",
    "else:\n",
    "    print(\"Newton's method did not converge\")"
   ]
  },
  {
   "cell_type": "code",
   "execution_count": 25,
   "id": "354d10a3",
   "metadata": {},
   "outputs": [
    {
     "data": {
      "text/plain": [
       "True"
      ]
     },
     "execution_count": 25,
     "metadata": {},
     "output_type": "execute_result"
    }
   ],
   "source": [
    "converged"
   ]
  },
  {
   "cell_type": "code",
   "execution_count": null,
   "id": "52f96182",
   "metadata": {},
   "outputs": [],
   "source": []
  }
 ],
 "metadata": {
  "kernelspec": {
   "display_name": "Python 3 (ipykernel)",
   "language": "python",
   "name": "python3"
  },
  "language_info": {
   "codemirror_mode": {
    "name": "ipython",
    "version": 3
   },
   "file_extension": ".py",
   "mimetype": "text/x-python",
   "name": "python",
   "nbconvert_exporter": "python",
   "pygments_lexer": "ipython3",
   "version": "3.9.13"
  }
 },
 "nbformat": 4,
 "nbformat_minor": 5
}
